{
 "cells": [
  {
   "cell_type": "markdown",
   "id": "7f0a6e07-facc-43f7-9e73-8e8fc5c4229f",
   "metadata": {},
   "source": [
    "<u><h1 style=\"color:#21B6A8\"> Exercice : Dataset cleaning and mapinulation </h1></u>"
   ]
  },
  {
   "cell_type": "markdown",
   "id": "c22912f0-0fd8-417b-b89f-5b7427b4ecd7",
   "metadata": {},
   "source": [
    "<h2 style=\"color:#98D7C2\">Importing library 🐼</h2>"
   ]
  },
  {
   "cell_type": "code",
   "execution_count": null,
   "id": "a7c090bf-7618-4308-a6d8-cc632d7a8386",
   "metadata": {},
   "outputs": [],
   "source": [
    "import pandas as pd\n",
    "import matplotlib.pyplot as plt"
   ]
  },
  {
   "cell_type": "markdown",
   "id": "00419cf8-55ca-464c-ab23-417189ae0c03",
   "metadata": {},
   "source": [
    "<h2 style=\"color:#98D7C2\">Reading datasets</h2>"
   ]
  },
  {
   "cell_type": "code",
   "execution_count": null,
   "id": "69876b7c-c6a3-4fa8-8dd0-6470d8629d52",
   "metadata": {},
   "outputs": [],
   "source": [
    "customers = pd.read_csv('dataset/customers.csv')\n",
    "products = pd.read_csv('dataset/products.csv')\n",
    "transactions = pd.read_csv('dataset/transactions.csv')"
   ]
  },
  {
   "cell_type": "markdown",
   "id": "0f46fc62-102c-4c1f-b1df-1f27e429aa61",
   "metadata": {},
   "source": [
    "<h2 style=\"color:#98D7C2\">Copy creations</h2>"
   ]
  },
  {
   "cell_type": "code",
   "execution_count": null,
   "id": "fca26c99-102d-4e25-a5b8-6d800f33bc51",
   "metadata": {},
   "outputs": [],
   "source": [
    "customers_copie = customers.copy()\n",
    "products_copie = products.copy()\n",
    "transactions_copie = transactions.copy()"
   ]
  },
  {
   "cell_type": "markdown",
   "id": "6eaee19a-cf10-449f-8d8c-6353fab7a2c4",
   "metadata": {},
   "source": [
    "<h2 style=\"color:#98D7C2\">Displaying data </h2>"
   ]
  },
  {
   "cell_type": "code",
   "execution_count": null,
   "id": "79d36216-f059-4a84-a7be-b9aad45da069",
   "metadata": {},
   "outputs": [],
   "source": [
    "customers_copie.head()\n",
    "products_copie(20) \n",
    "transactions_copie.head()"
   ]
  },
  {
   "cell_type": "markdown",
   "id": "48bc5397-1997-428f-9571-5a0bccee5f27",
   "metadata": {},
   "source": [
    "<h2 style=\"color:#98D7C2\">Data description</h2>"
   ]
  },
  {
   "cell_type": "code",
   "execution_count": null,
   "id": "f97aebea-f7fa-4970-81fc-eb4a8a5da582",
   "metadata": {},
   "outputs": [],
   "source": [
    "transactions_copie.describe()"
   ]
  },
  {
   "cell_type": "markdown",
   "id": "b91a4b31-24e9-4730-b093-7fbc304dc6ce",
   "metadata": {},
   "source": [
    "<i style=\"color:#90ADC6\"> -> ici, je vois que la valeur \"test\" revient trop souvent dans la colonne date, ce n’est pas une date valide, pandas considère toute la colonne comme un objet. Après avoir analysé les lignes avec cette valeur, je décide de \"supprimer\" ou plutôt de filtrer ces lignes car ca ressemble à des valeurs de test. </i>"
   ]
  },
  {
   "cell_type": "markdown",
   "id": "dea39aa3-a25a-4718-a659-88910052b033",
   "metadata": {},
   "source": [
    "<h2 style=\"color:#98D7C2\">Deleting ‘test’ values</h2>"
   ]
  },
  {
   "cell_type": "code",
   "execution_count": null,
   "id": "95f65b77-3bf7-4417-8c0c-cae851a82d73",
   "metadata": {},
   "outputs": [],
   "source": [
    "transactions_copie = transactions_copie[~transactions_copie['date'].astype(str).str.contains(\"test\", case=False, na=False)]"
   ]
  },
  {
   "cell_type": "markdown",
   "id": "475d137b-4029-4974-89c3-3d309b9d49d2",
   "metadata": {},
   "source": [
    "<h2 style=\"color:#98D7C2\">Checking data types</h2>"
   ]
  },
  {
   "cell_type": "code",
   "execution_count": null,
   "id": "c5f8417d-a0fc-461f-b9ee-15c6fa80cbf2",
   "metadata": {},
   "outputs": [],
   "source": [
    "transactions_copie.dtypes"
   ]
  },
  {
   "cell_type": "markdown",
   "id": "d38fa1d3-5a05-4ec3-8bb0-b71421854c49",
   "metadata": {},
   "source": [
    "<i style=\"color:#90ADC6\"> -> ici, je m'aperçois que la date est au format objet, ce n'est pas correct, je vais donc la convertir en datetime. </i>"
   ]
  },
  {
   "cell_type": "markdown",
   "id": "9934fb31-0194-4c99-a885-a4980de44882",
   "metadata": {},
   "source": [
    "<h2 style=\"color:#98D7C2\">Converting date to date</h2>"
   ]
  },
  {
   "cell_type": "code",
   "execution_count": null,
   "id": "815fcb3d-09df-4c23-a79d-9b4d511437fd",
   "metadata": {},
   "outputs": [],
   "source": [
    "transactions_copie.loc[:, 'date'] = pd.to_datetime(transactions_copie['date'])"
   ]
  },
  {
   "cell_type": "markdown",
   "id": "817c2302-15f2-4ea0-8961-bf6c744d18d1",
   "metadata": {},
   "source": [
    "<h2 style=\"color:#98D7C2\">Checking for duplicates</h2>"
   ]
  },
  {
   "cell_type": "code",
   "execution_count": null,
   "id": "701ed690-ebbc-49d0-bc53-28de4cf12b7b",
   "metadata": {},
   "outputs": [],
   "source": [
    "transactions_copie.duplicated().sum()\n",
    "products_copie.duplicated().sum()\n",
    "customers_copie.duplicated().sum()"
   ]
  },
  {
   "cell_type": "markdown",
   "id": "30c0c46d-8e8f-48ff-a0e4-111cab72e07d",
   "metadata": {},
   "source": [
    "<h2 style=\"color:#98D7C2\">Checking for null values</h2>"
   ]
  },
  {
   "cell_type": "code",
   "execution_count": null,
   "id": "dbe3b7ba-3ec7-41c4-a20b-ffe3443d628d",
   "metadata": {},
   "outputs": [],
   "source": [
    "transactions_copie.isnull().sum()\n",
    "products_copie.isnull().sum()\n",
    "customers_copie.isnull().sum()"
   ]
  },
  {
   "cell_type": "markdown",
   "id": "39d1345b-6a16-4998-b0d9-068c80eb9512",
   "metadata": {},
   "source": [
    "<h2 style=\"color:#98D7C2\">Correction negative values</h2>"
   ]
  },
  {
   "cell_type": "code",
   "execution_count": null,
   "id": "8d3f97a4-538b-489e-9b80-9cd071bf0f09",
   "metadata": {},
   "outputs": [],
   "source": [
    "products_copie.describe()"
   ]
  },
  {
   "cell_type": "code",
   "execution_count": null,
   "id": "80254ed7-c95c-4934-b0f7-5b763cacebed",
   "metadata": {},
   "outputs": [],
   "source": [
    "products_copie['price'].min()"
   ]
  },
  {
   "cell_type": "code",
   "execution_count": null,
   "id": "58b4b964-76f4-4df8-b33c-9a90a1b54424",
   "metadata": {},
   "outputs": [],
   "source": [
    "products_copie = products_copie[products_copie['price']>=0]"
   ]
  },
  {
   "cell_type": "markdown",
   "id": "99c4cd52-bf04-4ce4-b4bc-0f186d49ac84",
   "metadata": {},
   "source": [
    "<h2 style=\"color:#98D7C2\">Display monthly revenue trend</h2>"
   ]
  },
  {
   "cell_type": "code",
   "execution_count": null,
   "id": "4c3433a2-d555-448c-9848-0ba3b115f4ca",
   "metadata": {},
   "outputs": [],
   "source": [
    "merged = pd.merge(transactions_copie, products_copie[['price', 'id_prod']], on='id_prod')\n",
    "merged['month'] = merged['date'].dt.to_period('M')\n",
    "ca_mois = merged.groupby('month')['price'].sum().reset_index()\n",
    "ca_mois"
   ]
  },
  {
   "cell_type": "markdown",
   "id": "5ac6e707-746d-4f94-88b1-afb59e860f05",
   "metadata": {},
   "source": [
    "<i style=\"color:#90ADC6\"> -> Ici, je choisis de faire une jointure interne car je souhaite uniquement conserver les transactions pour lesquelles le produit existe dans la table des produits. </i>"
   ]
  },
  {
   "cell_type": "code",
   "execution_count": null,
   "id": "0a6efc41-5dd6-40d2-8d1a-6b32641bb0ad",
   "metadata": {},
   "outputs": [],
   "source": [
    "plt.figure(figsize=(10, 5))\n",
    "plt.plot(ca_mois['month'].astype(str), ca_mois['price'], marker='x', linestyle='-')\n",
    "plt.title(\"Chiffre d'affaires par mois\")\n",
    "plt.xlabel(\"Mois\")\n",
    "plt.ylabel(\"Chiffre d'affaires (€)\")\n",
    "plt.xticks(rotation=45)\n",
    "plt.grid(True)\n",
    "plt.tight_layout()\n",
    "plt.show()"
   ]
  },
  {
   "cell_type": "markdown",
   "id": "a1baa8a7-e342-4deb-8514-bd8e764fa62c",
   "metadata": {},
   "source": [
    "<h2 style=\"color:#98D7C2\">Calculates the number of transactions per customer</h2>"
   ]
  },
  {
   "cell_type": "code",
   "execution_count": null,
   "id": "06c464bf-207c-44ff-a02c-839f1b303a16",
   "metadata": {},
   "outputs": [],
   "source": [
    "merge_trans_client = pd.merge(transactions_copie, customers_copie, on='client_id')\n",
    "merge_trans_client.groupby('client_id')['client_id'].count().reset_index(name='nmb_of_transactions')"
   ]
  },
  {
   "cell_type": "code",
   "execution_count": null,
   "id": "2115b68f-87b2-4b21-a12c-0fbb8deb2c9c",
   "metadata": {},
   "outputs": [],
   "source": [
    "merge_trans_client[merge_trans_client['nmb_of_transactions'] > 1000]"
   ]
  },
  {
   "cell_type": "markdown",
   "id": "9180f439-ecb9-4623-93f5-3c6add690184",
   "metadata": {},
   "source": [
    "<i style=\"color:#90ADC6\"> -> Ici, je fais une jointure interne car je veux afficher seulement les clients qui ont des transactions. Sans la jointure, je peux afficher 1 seule transaction par client or que moi je veux toutes les transactions qu'un client a fait donc la jointure est nécessaire ici.  </i>"
   ]
  },
  {
   "cell_type": "code",
   "execution_count": null,
   "id": "b34b4388-133b-4e7d-a16f-7f4f235cbe0c",
   "metadata": {},
   "outputs": [],
   "source": []
  }
 ],
 "metadata": {
  "kernelspec": {
   "display_name": "Python [conda env:base] *",
   "language": "python",
   "name": "conda-base-py"
  },
  "language_info": {
   "codemirror_mode": {
    "name": "ipython",
    "version": 3
   },
   "file_extension": ".py",
   "mimetype": "text/x-python",
   "name": "python",
   "nbconvert_exporter": "python",
   "pygments_lexer": "ipython3",
   "version": "3.12.7"
  }
 },
 "nbformat": 4,
 "nbformat_minor": 5
}
