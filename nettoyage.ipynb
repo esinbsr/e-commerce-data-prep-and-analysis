{
 "cells": [
  {
   "cell_type": "markdown",
   "id": "7f0a6e07-facc-43f7-9e73-8e8fc5c4229f",
   "metadata": {},
   "source": [
    "<u><h1 style=\"color:#21B6A8\"> Exercice : Dataset cleaning and mapinulation </h1></u>"
   ]
  },
  {
   "cell_type": "markdown",
   "id": "c22912f0-0fd8-417b-b89f-5b7427b4ecd7",
   "metadata": {},
   "source": [
    "<h2 style=\"color:#98D7C2\">Importing library 🐼</h2>"
   ]
  },
  {
   "cell_type": "code",
   "execution_count": 1,
   "id": "a7c090bf-7618-4308-a6d8-cc632d7a8386",
   "metadata": {},
   "outputs": [],
   "source": [
    "import pandas as pd\n",
    "import matplotlib.pyplot as plt"
   ]
  },
  {
   "cell_type": "markdown",
   "id": "00419cf8-55ca-464c-ab23-417189ae0c03",
   "metadata": {},
   "source": [
    "<h2 style=\"color:#98D7C2\">Reading datasets</h2>"
   ]
  },
  {
   "cell_type": "code",
   "execution_count": 2,
   "id": "69876b7c-c6a3-4fa8-8dd0-6470d8629d52",
   "metadata": {},
   "outputs": [],
   "source": [
    "customers = pd.read_csv('dataset/customers.csv')\n",
    "products = pd.read_csv('dataset/products.csv')\n",
    "transactions = pd.read_csv('dataset/transactions.csv')"
   ]
  },
  {
   "cell_type": "markdown",
   "id": "0f46fc62-102c-4c1f-b1df-1f27e429aa61",
   "metadata": {},
   "source": [
    "<h2 style=\"color:#98D7C2\">Copy creations</h2>"
   ]
  },
  {
   "cell_type": "code",
   "execution_count": 3,
   "id": "fca26c99-102d-4e25-a5b8-6d800f33bc51",
   "metadata": {},
   "outputs": [],
   "source": [
    "customers_copie = customers.copy()\n",
    "products_copie = products.copy()\n",
    "transactions_copie = transactions.copy()"
   ]
  },
  {
   "cell_type": "markdown",
   "id": "543179a2-216e-4d2c-acd8-ee862d94cac2",
   "metadata": {},
   "source": [
    "<i style=\"color:#90ADC6\"> -> je crée des copy des fichiers csv originaux car je ne veux pas écraser l'original.  </i>"
   ]
  },
  {
   "cell_type": "markdown",
   "id": "6eaee19a-cf10-449f-8d8c-6353fab7a2c4",
   "metadata": {},
   "source": [
    "<h2 style=\"color:#98D7C2\">Displaying data </h2>"
   ]
  },
  {
   "cell_type": "code",
   "execution_count": 5,
   "id": "79d36216-f059-4a84-a7be-b9aad45da069",
   "metadata": {},
   "outputs": [
    {
     "data": {
      "text/html": [
       "<div>\n",
       "<style scoped>\n",
       "    .dataframe tbody tr th:only-of-type {\n",
       "        vertical-align: middle;\n",
       "    }\n",
       "\n",
       "    .dataframe tbody tr th {\n",
       "        vertical-align: top;\n",
       "    }\n",
       "\n",
       "    .dataframe thead th {\n",
       "        text-align: right;\n",
       "    }\n",
       "</style>\n",
       "<table border=\"1\" class=\"dataframe\">\n",
       "  <thead>\n",
       "    <tr style=\"text-align: right;\">\n",
       "      <th></th>\n",
       "      <th>id_prod</th>\n",
       "      <th>date</th>\n",
       "      <th>session_id</th>\n",
       "      <th>client_id</th>\n",
       "    </tr>\n",
       "  </thead>\n",
       "  <tbody>\n",
       "    <tr>\n",
       "      <th>0</th>\n",
       "      <td>0_1483</td>\n",
       "      <td>2021-04-10 18:37:28.723910</td>\n",
       "      <td>s_18746</td>\n",
       "      <td>c_4450</td>\n",
       "    </tr>\n",
       "    <tr>\n",
       "      <th>1</th>\n",
       "      <td>2_226</td>\n",
       "      <td>2022-02-03 01:55:53.276402</td>\n",
       "      <td>s_159142</td>\n",
       "      <td>c_277</td>\n",
       "    </tr>\n",
       "    <tr>\n",
       "      <th>2</th>\n",
       "      <td>1_374</td>\n",
       "      <td>2021-09-23 15:13:46.938559</td>\n",
       "      <td>s_94290</td>\n",
       "      <td>c_4270</td>\n",
       "    </tr>\n",
       "    <tr>\n",
       "      <th>3</th>\n",
       "      <td>0_2186</td>\n",
       "      <td>2021-10-17 03:27:18.783634</td>\n",
       "      <td>s_105936</td>\n",
       "      <td>c_4597</td>\n",
       "    </tr>\n",
       "    <tr>\n",
       "      <th>4</th>\n",
       "      <td>0_1351</td>\n",
       "      <td>2021-07-17 20:34:25.800563</td>\n",
       "      <td>s_63642</td>\n",
       "      <td>c_1242</td>\n",
       "    </tr>\n",
       "  </tbody>\n",
       "</table>\n",
       "</div>"
      ],
      "text/plain": [
       "  id_prod                        date session_id client_id\n",
       "0  0_1483  2021-04-10 18:37:28.723910    s_18746    c_4450\n",
       "1   2_226  2022-02-03 01:55:53.276402   s_159142     c_277\n",
       "2   1_374  2021-09-23 15:13:46.938559    s_94290    c_4270\n",
       "3  0_2186  2021-10-17 03:27:18.783634   s_105936    c_4597\n",
       "4  0_1351  2021-07-17 20:34:25.800563    s_63642    c_1242"
      ]
     },
     "execution_count": 5,
     "metadata": {},
     "output_type": "execute_result"
    }
   ],
   "source": [
    "customers_copie.head()\n",
    "products_copie.head() \n",
    "transactions_copie.head()"
   ]
  },
  {
   "cell_type": "markdown",
   "id": "48bc5397-1997-428f-9571-5a0bccee5f27",
   "metadata": {},
   "source": [
    "<h2 style=\"color:#98D7C2\">Data description</h2>"
   ]
  },
  {
   "cell_type": "code",
   "execution_count": null,
   "id": "f97aebea-f7fa-4970-81fc-eb4a8a5da582",
   "metadata": {},
   "outputs": [],
   "source": [
    "transactions_copie.describe()"
   ]
  },
  {
   "cell_type": "markdown",
   "id": "b91a4b31-24e9-4730-b093-7fbc304dc6ce",
   "metadata": {},
   "source": [
    "<i style=\"color:#90ADC6\"> -> ici, je vois que la valeur \"test\" revient trop souvent dans la colonne date, ce n’est pas une date valide, pandas considère toute la colonne comme un objet. Après avoir analysé les lignes avec cette valeur, je décide de \"supprimer\" ou plutôt de filtrer ces lignes car ca ressemble à des valeurs de test. </i>"
   ]
  },
  {
   "cell_type": "markdown",
   "id": "dea39aa3-a25a-4718-a659-88910052b033",
   "metadata": {},
   "source": [
    "<h2 style=\"color:#98D7C2\">Deleting ‘test’ values</h2>"
   ]
  },
  {
   "cell_type": "code",
   "execution_count": null,
   "id": "95f65b77-3bf7-4417-8c0c-cae851a82d73",
   "metadata": {},
   "outputs": [],
   "source": [
    "transactions_copie = transactions_copie[~transactions_copie['date'].astype(str).str.contains(\"test\", case=False, na=False)]"
   ]
  },
  {
   "cell_type": "markdown",
   "id": "475d137b-4029-4974-89c3-3d309b9d49d2",
   "metadata": {},
   "source": [
    "<h2 style=\"color:#98D7C2\">Checking data types</h2>"
   ]
  },
  {
   "cell_type": "code",
   "execution_count": null,
   "id": "c5f8417d-a0fc-461f-b9ee-15c6fa80cbf2",
   "metadata": {},
   "outputs": [],
   "source": [
    "transactions_copie.dtypes"
   ]
  },
  {
   "cell_type": "markdown",
   "id": "d38fa1d3-5a05-4ec3-8bb0-b71421854c49",
   "metadata": {},
   "source": [
    "<i style=\"color:#90ADC6\"> -> La date est au format objet, ce n'est pas correct, je vais donc la convertir en datetime. </i>"
   ]
  },
  {
   "cell_type": "markdown",
   "id": "9934fb31-0194-4c99-a885-a4980de44882",
   "metadata": {},
   "source": [
    "<h2 style=\"color:#98D7C2\">Converting date to datetime</h2>"
   ]
  },
  {
   "cell_type": "code",
   "execution_count": null,
   "id": "815fcb3d-09df-4c23-a79d-9b4d511437fd",
   "metadata": {},
   "outputs": [],
   "source": [
    "transactions_copie.loc[:, 'date'] = pd.to_datetime(transactions_copie['date'])"
   ]
  },
  {
   "cell_type": "markdown",
   "id": "817c2302-15f2-4ea0-8961-bf6c744d18d1",
   "metadata": {},
   "source": [
    "<h2 style=\"color:#98D7C2\">Checking for duplicates</h2>"
   ]
  },
  {
   "cell_type": "code",
   "execution_count": null,
   "id": "701ed690-ebbc-49d0-bc53-28de4cf12b7b",
   "metadata": {},
   "outputs": [],
   "source": [
    "transactions_copie.duplicated().sum()\n",
    "products_copie.duplicated().sum()\n",
    "customers_copie.duplicated().sum()"
   ]
  },
  {
   "cell_type": "markdown",
   "id": "30c0c46d-8e8f-48ff-a0e4-111cab72e07d",
   "metadata": {},
   "source": [
    "<h2 style=\"color:#98D7C2\">Checking for null values</h2>"
   ]
  },
  {
   "cell_type": "code",
   "execution_count": null,
   "id": "dbe3b7ba-3ec7-41c4-a20b-ffe3443d628d",
   "metadata": {},
   "outputs": [],
   "source": [
    "transactions_copie.isnull().sum()\n",
    "products_copie.isnull().sum()\n",
    "customers_copie.isnull().sum()"
   ]
  },
  {
   "cell_type": "markdown",
   "id": "39d1345b-6a16-4998-b0d9-068c80eb9512",
   "metadata": {},
   "source": [
    "<h2 style=\"color:#98D7C2\">Correction negative values</h2>"
   ]
  },
  {
   "cell_type": "code",
   "execution_count": 14,
   "id": "8d3f97a4-538b-489e-9b80-9cd071bf0f09",
   "metadata": {},
   "outputs": [
    {
     "data": {
      "text/html": [
       "<div>\n",
       "<style scoped>\n",
       "    .dataframe tbody tr th:only-of-type {\n",
       "        vertical-align: middle;\n",
       "    }\n",
       "\n",
       "    .dataframe tbody tr th {\n",
       "        vertical-align: top;\n",
       "    }\n",
       "\n",
       "    .dataframe thead th {\n",
       "        text-align: right;\n",
       "    }\n",
       "</style>\n",
       "<table border=\"1\" class=\"dataframe\">\n",
       "  <thead>\n",
       "    <tr style=\"text-align: right;\">\n",
       "      <th></th>\n",
       "      <th>price</th>\n",
       "      <th>categ</th>\n",
       "    </tr>\n",
       "  </thead>\n",
       "  <tbody>\n",
       "    <tr>\n",
       "      <th>count</th>\n",
       "      <td>3287.000000</td>\n",
       "      <td>3287.000000</td>\n",
       "    </tr>\n",
       "    <tr>\n",
       "      <th>mean</th>\n",
       "      <td>21.856946</td>\n",
       "      <td>0.370246</td>\n",
       "    </tr>\n",
       "    <tr>\n",
       "      <th>std</th>\n",
       "      <td>29.847680</td>\n",
       "      <td>0.615387</td>\n",
       "    </tr>\n",
       "    <tr>\n",
       "      <th>min</th>\n",
       "      <td>0.000000</td>\n",
       "      <td>0.000000</td>\n",
       "    </tr>\n",
       "    <tr>\n",
       "      <th>25%</th>\n",
       "      <td>6.990000</td>\n",
       "      <td>0.000000</td>\n",
       "    </tr>\n",
       "    <tr>\n",
       "      <th>50%</th>\n",
       "      <td>13.060000</td>\n",
       "      <td>0.000000</td>\n",
       "    </tr>\n",
       "    <tr>\n",
       "      <th>75%</th>\n",
       "      <td>22.990000</td>\n",
       "      <td>1.000000</td>\n",
       "    </tr>\n",
       "    <tr>\n",
       "      <th>max</th>\n",
       "      <td>300.000000</td>\n",
       "      <td>2.000000</td>\n",
       "    </tr>\n",
       "  </tbody>\n",
       "</table>\n",
       "</div>"
      ],
      "text/plain": [
       "             price        categ\n",
       "count  3287.000000  3287.000000\n",
       "mean     21.856946     0.370246\n",
       "std      29.847680     0.615387\n",
       "min       0.000000     0.000000\n",
       "25%       6.990000     0.000000\n",
       "50%      13.060000     0.000000\n",
       "75%      22.990000     1.000000\n",
       "max     300.000000     2.000000"
      ]
     },
     "execution_count": 14,
     "metadata": {},
     "output_type": "execute_result"
    }
   ],
   "source": [
    "products_copie.describe()"
   ]
  },
  {
   "cell_type": "code",
   "execution_count": null,
   "id": "80254ed7-c95c-4934-b0f7-5b763cacebed",
   "metadata": {},
   "outputs": [],
   "source": [
    "products_copie['price'].min()"
   ]
  },
  {
   "cell_type": "code",
   "execution_count": 13,
   "id": "58b4b964-76f4-4df8-b33c-9a90a1b54424",
   "metadata": {},
   "outputs": [],
   "source": [
    "products_copie['price'] = products_copie['price'].replace(-1,0) "
   ]
  },
  {
   "cell_type": "markdown",
   "id": "7604b289-35f1-4025-922f-424daa83a95f",
   "metadata": {},
   "source": [
    "<i style=\"color:#90ADC6\"> -> Je m'aperçois que il y a une valeur négative dans la colonne price, c'est incorrect car techniquement ça n'existe pas un produit à -1 euro, donc je remplace cette valeur par 0. </i>"
   ]
  },
  {
   "cell_type": "markdown",
   "id": "99c4cd52-bf04-4ce4-b4bc-0f186d49ac84",
   "metadata": {},
   "source": [
    "<h2 style=\"color:#98D7C2\">Display monthly revenue trend</h2>"
   ]
  },
  {
   "cell_type": "code",
   "execution_count": null,
   "id": "4c3433a2-d555-448c-9848-0ba3b115f4ca",
   "metadata": {},
   "outputs": [],
   "source": [
    "merge_transac_products = pd.merge(transactions_copie, products_copie[['price', 'id_prod']], on='id_prod')\n",
    "merge_transac_products['month'] = merge_transac_products['date'].dt.to_period('M')\n",
    "ca_mois = merge_transac_products.groupby('month')['price'].sum().reset_index()\n",
    "ca_mois"
   ]
  },
  {
   "cell_type": "markdown",
   "id": "5ac6e707-746d-4f94-88b1-afb59e860f05",
   "metadata": {},
   "source": [
    "<i style=\"color:#90ADC6\"> -> Je choisis de faire une jointure interne car je souhaite uniquement conserver les transactions pour lesquelles le produit existe dans la table des produits. </i>"
   ]
  },
  {
   "cell_type": "code",
   "execution_count": null,
   "id": "0a6efc41-5dd6-40d2-8d1a-6b32641bb0ad",
   "metadata": {},
   "outputs": [],
   "source": [
    "plt.figure(figsize=(10, 5))\n",
    "plt.plot(ca_mois['month'].astype(str), ca_mois['price'], marker='x', linestyle='-')\n",
    "plt.title(\"Chiffre d'affaires par mois\")\n",
    "plt.xlabel(\"Mois\")\n",
    "plt.ylabel(\"Chiffre d'affaires (€)\")\n",
    "plt.xticks(rotation=45)\n",
    "plt.grid(True)\n",
    "plt.tight_layout()\n",
    "plt.show()"
   ]
  },
  {
   "cell_type": "markdown",
   "id": "a1baa8a7-e342-4deb-8514-bd8e764fa62c",
   "metadata": {},
   "source": [
    "<h2 style=\"color:#98D7C2\">Calculates the number of transactions per customer</h2>"
   ]
  },
  {
   "cell_type": "code",
   "execution_count": null,
   "id": "5de92167-6914-4688-800b-6f0004d61304",
   "metadata": {},
   "outputs": [],
   "source": [
    "merge_transac_customer = pd.merge(transactions_copie, customers_copie, on='client_id')\n",
    "transac_by_customer = merge_transac_customer.groupby('client_id')['client_id'].count().reset_index(name='nmb_transactions')"
   ]
  },
  {
   "cell_type": "markdown",
   "id": "9180f439-ecb9-4623-93f5-3c6add690184",
   "metadata": {},
   "source": [
    "<i style=\"color:#90ADC6\"> -> Je fais une jointure interne car je veux afficher seulement les clients qui ont des transactions. Sans la jointure, je peux afficher 1 seule transaction par client or que moi je veux toutes les transactions qu'un client a fait donc la jointure est nécessaire ici.  </i>"
   ]
  },
  {
   "cell_type": "markdown",
   "id": "1a94085f-5ef5-48c6-b2e0-2539240a9050",
   "metadata": {},
   "source": [
    "<h2 style=\"color:#98D7C2\">Calculation of revenue per customer</h2>"
   ]
  },
  {
   "cell_type": "code",
   "execution_count": null,
   "id": "d544de35-c51a-47bc-b22a-5417446f7fcf",
   "metadata": {},
   "outputs": [],
   "source": [
    "merge_transac_customer_products = pd.merge(merge_transac_products, customers, on='client_id')\n",
    "ca_by_client = merge_transac_customer_products.groupby('client_id')['price'].sum().reset_index(name='revenue')\n",
    "ca_by_client"
   ]
  },
  {
   "cell_type": "markdown",
   "id": "28a5822b-54d6-47da-961d-c429d2df2d86",
   "metadata": {},
   "source": [
    "<h2 style=\"color:#98D7C2\">Display of the person with the highest turnover</h2>"
   ]
  },
  {
   "cell_type": "code",
   "execution_count": null,
   "id": "d9f031da-3d7d-41e3-9dda-6d502e36c1b3",
   "metadata": {},
   "outputs": [],
   "source": [
    "ca_by_client.sort_values(by='revenue', ascending=False).head(1)"
   ]
  },
  {
   "cell_type": "markdown",
   "id": "193a7443-f4b0-433b-9bcc-2df8d8e1c4fb",
   "metadata": {},
   "source": [
    "<h2 style=\"color:#98D7C2\">Displaying the most expensive product</h2>"
   ]
  },
  {
   "cell_type": "code",
   "execution_count": null,
   "id": "b88b4235-d3ef-463d-b57a-d4ef3662ada2",
   "metadata": {},
   "outputs": [],
   "source": [
    "products_copie.sort_values(by='price', ascending=False).head(1)"
   ]
  },
  {
   "cell_type": "code",
   "execution_count": null,
   "id": "769c1295-72c1-4d3b-b751-e176a1e428d4",
   "metadata": {},
   "outputs": [],
   "source": [
    "products_copie.nlargest(1, 'price')"
   ]
  },
  {
   "cell_type": "markdown",
   "id": "3dcbe576-2834-4d5a-b553-c24b39619b8e",
   "metadata": {},
   "source": [
    "<h2 style=\"color:#98D7C2\">Display of the best-selling product</h2>"
   ]
  },
  {
   "cell_type": "code",
   "execution_count": null,
   "id": "8819a37d-6838-456c-beb9-fefb2722cdb1",
   "metadata": {},
   "outputs": [],
   "source": [
    "best_selling_product = merge_transac_products['id_prod'].value_counts().head(1)\n",
    "best_selling_product"
   ]
  },
  {
   "cell_type": "code",
   "execution_count": null,
   "id": "76aee7b4-c0ba-4cd1-be07-52b971ed88f9",
   "metadata": {},
   "outputs": [],
   "source": [
    "je_test_les_nulle_une_seule_fois = je_test_les_nulle[je_test_les_nulle.isna().sum(axis=1) == 1]"
   ]
  },
  {
   "cell_type": "code",
   "execution_count": null,
   "id": "07d1aeb8-2554-4edf-89ad-4807c6d4036a",
   "metadata": {},
   "outputs": [],
   "source": []
  }
 ],
 "metadata": {
  "kernelspec": {
   "display_name": "Python [conda env:base] *",
   "language": "python",
   "name": "conda-base-py"
  },
  "language_info": {
   "codemirror_mode": {
    "name": "ipython",
    "version": 3
   },
   "file_extension": ".py",
   "mimetype": "text/x-python",
   "name": "python",
   "nbconvert_exporter": "python",
   "pygments_lexer": "ipython3",
   "version": "3.12.7"
  }
 },
 "nbformat": 4,
 "nbformat_minor": 5
}
