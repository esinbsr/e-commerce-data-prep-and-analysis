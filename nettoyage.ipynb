{
 "cells": [
  {
   "cell_type": "markdown",
   "id": "7f0a6e07-facc-43f7-9e73-8e8fc5c4229f",
   "metadata": {},
   "source": [
    "<u><h1 style=\"color:#21B6A8\"> Exercice : Dataset cleaning and mapinulation </h1></u>"
   ]
  },
  {
   "cell_type": "markdown",
   "id": "c22912f0-0fd8-417b-b89f-5b7427b4ecd7",
   "metadata": {},
   "source": [
    "<h2 style=\"color:#98D7C2\">Importing the Pandas library 🐼</h2>"
   ]
  },
  {
   "cell_type": "code",
   "execution_count": null,
   "id": "a7c090bf-7618-4308-a6d8-cc632d7a8386",
   "metadata": {},
   "outputs": [],
   "source": [
    "import pandas as pd"
   ]
  },
  {
   "cell_type": "markdown",
   "id": "00419cf8-55ca-464c-ab23-417189ae0c03",
   "metadata": {},
   "source": [
    "<h2 style=\"color:#98D7C2\">Reading datasets</h2>"
   ]
  },
  {
   "cell_type": "code",
   "execution_count": null,
   "id": "69876b7c-c6a3-4fa8-8dd0-6470d8629d52",
   "metadata": {},
   "outputs": [],
   "source": [
    "customers = pd.read_csv('dataset/customers.csv')\n",
    "products = pd.read_csv('dataset/products.csv')\n",
    "transactions = pd.read_csv('dataset/transactions.csv')"
   ]
  },
  {
   "cell_type": "markdown",
   "id": "6eaee19a-cf10-449f-8d8c-6353fab7a2c4",
   "metadata": {},
   "source": [
    "<h2 style=\"color:#98D7C2\">Displaying data </h2>"
   ]
  },
  {
   "cell_type": "code",
   "execution_count": null,
   "id": "79d36216-f059-4a84-a7be-b9aad45da069",
   "metadata": {},
   "outputs": [],
   "source": [
    "customers.head()\n",
    "products.head(20) \n",
    "transactions.head(20)"
   ]
  },
  {
   "cell_type": "markdown",
   "id": "48bc5397-1997-428f-9571-5a0bccee5f27",
   "metadata": {},
   "source": [
    "<h2 style=\"color:#98D7C2\">Data description</h2>"
   ]
  },
  {
   "cell_type": "code",
   "execution_count": null,
   "id": "f97aebea-f7fa-4970-81fc-eb4a8a5da582",
   "metadata": {},
   "outputs": [],
   "source": [
    "transactions.describe()"
   ]
  },
  {
   "cell_type": "code",
   "execution_count": null,
   "id": "248e309e-60d3-44f4-b803-ee213939146e",
   "metadata": {},
   "outputs": [],
   "source": [
    "transactions[~transactions['date'].astype(str).str.contains(\"test\", case=False, na=False)]"
   ]
  },
  {
   "cell_type": "markdown",
   "id": "b91a4b31-24e9-4730-b093-7fbc304dc6ce",
   "metadata": {},
   "source": [
    "<i style=\"color:#90ADC6\"> -> ici, je vois que la valeur \"test\" revient trop souvent dans la colonne date, ce n’est pas une date valide, pandas considère toute la colonne comme un objet. Après avoir analysé les lignes avec cette valeur, je décide de supprimer ces lignes car ca ressemble à des valeurs de test. </i>"
   ]
  },
  {
   "cell_type": "markdown",
   "id": "dea39aa3-a25a-4718-a659-88910052b033",
   "metadata": {},
   "source": [
    "<h2 style=\"color:#98D7C2\">Deleting ‘test’ values</h2>"
   ]
  },
  {
   "cell_type": "code",
   "execution_count": null,
   "id": "3f755089-d418-4f83-aa6c-43314e76ced9",
   "metadata": {},
   "outputs": [],
   "source": [
    "transactions = transactions[~transactions['date'].astype(str).str.contains(\"test\", case=False, na=False)]"
   ]
  },
  {
   "cell_type": "markdown",
   "id": "475d137b-4029-4974-89c3-3d309b9d49d2",
   "metadata": {},
   "source": [
    "<h2 style=\"color:#98D7C2\">Checking data types</h2>"
   ]
  },
  {
   "cell_type": "code",
   "execution_count": 9,
   "id": "c5f8417d-a0fc-461f-b9ee-15c6fa80cbf2",
   "metadata": {},
   "outputs": [
    {
     "data": {
      "text/plain": [
       "id_prod       object\n",
       "date          object\n",
       "session_id    object\n",
       "client_id     object\n",
       "dtype: object"
      ]
     },
     "execution_count": 9,
     "metadata": {},
     "output_type": "execute_result"
    }
   ],
   "source": [
    "transactions.dtypes"
   ]
  },
  {
   "cell_type": "code",
   "execution_count": null,
   "id": "c926600e-acf3-414d-b1e8-0e7e67e975d0",
   "metadata": {},
   "outputs": [],
   "source": []
  }
 ],
 "metadata": {
  "kernelspec": {
   "display_name": "Python [conda env:base] *",
   "language": "python",
   "name": "conda-base-py"
  },
  "language_info": {
   "codemirror_mode": {
    "name": "ipython",
    "version": 3
   },
   "file_extension": ".py",
   "mimetype": "text/x-python",
   "name": "python",
   "nbconvert_exporter": "python",
   "pygments_lexer": "ipython3",
   "version": "3.12.7"
  }
 },
 "nbformat": 4,
 "nbformat_minor": 5
}
