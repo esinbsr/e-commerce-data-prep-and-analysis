{
 "cells": [
  {
   "cell_type": "markdown",
   "id": "7f0a6e07-facc-43f7-9e73-8e8fc5c4229f",
   "metadata": {},
   "source": [
    "<u><h1 style=\"color:#21B6A8\"> Exercice : Dataset cleaning and mapinulation </h1></u>"
   ]
  },
  {
   "cell_type": "markdown",
   "id": "c22912f0-0fd8-417b-b89f-5b7427b4ecd7",
   "metadata": {},
   "source": [
    "<h2 style=\"color:#98D7C2\">Importing the Pandas library 🐼</h2>"
   ]
  },
  {
   "cell_type": "code",
   "execution_count": null,
   "id": "a7c090bf-7618-4308-a6d8-cc632d7a8386",
   "metadata": {},
   "outputs": [],
   "source": [
    "import pandas as pd\n",
    "import matplotlib.pyplot as plt\n",
    "import seaborn as sns"
   ]
  },
  {
   "cell_type": "markdown",
   "id": "00419cf8-55ca-464c-ab23-417189ae0c03",
   "metadata": {},
   "source": [
    "<h2 style=\"color:#98D7C2\">Reading datasets</h2>"
   ]
  },
  {
   "cell_type": "code",
   "execution_count": null,
   "id": "69876b7c-c6a3-4fa8-8dd0-6470d8629d52",
   "metadata": {},
   "outputs": [],
   "source": [
    "customers = pd.read_csv('dataset/customers.csv')\n",
    "products = pd.read_csv('dataset/products.csv')\n",
    "transactions = pd.read_csv('dataset/transactions.csv')"
   ]
  },
  {
   "cell_type": "markdown",
   "id": "6eaee19a-cf10-449f-8d8c-6353fab7a2c4",
   "metadata": {},
   "source": [
    "<h2 style=\"color:#98D7C2\">Displaying data </h2>"
   ]
  },
  {
   "cell_type": "code",
   "execution_count": null,
   "id": "79d36216-f059-4a84-a7be-b9aad45da069",
   "metadata": {},
   "outputs": [],
   "source": [
    "#customers.head()\n",
    "#products.head(20) \n",
    "#transactions.head()"
   ]
  },
  {
   "cell_type": "markdown",
   "id": "48bc5397-1997-428f-9571-5a0bccee5f27",
   "metadata": {},
   "source": [
    "<h2 style=\"color:#98D7C2\">Data description</h2>"
   ]
  },
  {
   "cell_type": "code",
   "execution_count": null,
   "id": "f97aebea-f7fa-4970-81fc-eb4a8a5da582",
   "metadata": {},
   "outputs": [],
   "source": [
    "transactions.describe()"
   ]
  },
  {
   "cell_type": "code",
   "execution_count": null,
   "id": "248e309e-60d3-44f4-b803-ee213939146e",
   "metadata": {},
   "outputs": [],
   "source": [
    "transactions[~transactions['date'].astype(str).str.contains(\"test\", case=False, na=False)]"
   ]
  },
  {
   "cell_type": "markdown",
   "id": "b91a4b31-24e9-4730-b093-7fbc304dc6ce",
   "metadata": {},
   "source": [
    "<i style=\"color:#90ADC6\"> -> ici, je vois que la valeur \"test\" revient trop souvent dans la colonne date, ce n’est pas une date valide, pandas considère toute la colonne comme un objet. Après avoir analysé les lignes avec cette valeur, je décide de supprimer ces lignes car ca ressemble à des valeurs de test. </i>"
   ]
  },
  {
   "cell_type": "markdown",
   "id": "dea39aa3-a25a-4718-a659-88910052b033",
   "metadata": {},
   "source": [
    "<h2 style=\"color:#98D7C2\">Deleting ‘test’ values</h2>"
   ]
  },
  {
   "cell_type": "code",
   "execution_count": null,
   "id": "3f755089-d418-4f83-aa6c-43314e76ced9",
   "metadata": {},
   "outputs": [],
   "source": [
    "transactions = transactions[~transactions['date'].astype(str).str.contains(\"test\", case=False, na=False)]"
   ]
  },
  {
   "cell_type": "markdown",
   "id": "475d137b-4029-4974-89c3-3d309b9d49d2",
   "metadata": {},
   "source": [
    "<h2 style=\"color:#98D7C2\">Checking data types</h2>"
   ]
  },
  {
   "cell_type": "code",
   "execution_count": null,
   "id": "c5f8417d-a0fc-461f-b9ee-15c6fa80cbf2",
   "metadata": {},
   "outputs": [],
   "source": [
    "transactions.dtypes"
   ]
  },
  {
   "cell_type": "markdown",
   "id": "d38fa1d3-5a05-4ec3-8bb0-b71421854c49",
   "metadata": {},
   "source": [
    "<i style=\"color:#90ADC6\"> -> ici, je m'aperçois que la date est au format objet, ce n'est pas correct, je vais donc la convertir en datetime. </i>"
   ]
  },
  {
   "cell_type": "markdown",
   "id": "9934fb31-0194-4c99-a885-a4980de44882",
   "metadata": {},
   "source": [
    "<h2 style=\"color:#98D7C2\">Converting date to date</h2>"
   ]
  },
  {
   "cell_type": "code",
   "execution_count": null,
   "id": "c926600e-acf3-414d-b1e8-0e7e67e975d0",
   "metadata": {},
   "outputs": [],
   "source": [
    "transactions['date'] = pd.to_datetime(transactions['date'])"
   ]
  },
  {
   "cell_type": "markdown",
   "id": "817c2302-15f2-4ea0-8961-bf6c744d18d1",
   "metadata": {},
   "source": [
    "<h2 style=\"color:#98D7C2\">Checking for duplicates</h2>"
   ]
  },
  {
   "cell_type": "code",
   "execution_count": null,
   "id": "701ed690-ebbc-49d0-bc53-28de4cf12b7b",
   "metadata": {},
   "outputs": [],
   "source": [
    "transactions.duplicated().sum()\n",
    "products.duplicated().sum()\n",
    "customers.duplicated().sum()"
   ]
  },
  {
   "cell_type": "markdown",
   "id": "30c0c46d-8e8f-48ff-a0e4-111cab72e07d",
   "metadata": {},
   "source": [
    "<h2 style=\"color:#98D7C2\">Checking for null values</h2>"
   ]
  },
  {
   "cell_type": "code",
   "execution_count": null,
   "id": "dbe3b7ba-3ec7-41c4-a20b-ffe3443d628d",
   "metadata": {},
   "outputs": [],
   "source": [
    "transactions.isnull().sum()\n",
    "products.isnull().sum()\n",
    "customers.isnull().sum()"
   ]
  },
  {
   "cell_type": "markdown",
   "id": "39d1345b-6a16-4998-b0d9-068c80eb9512",
   "metadata": {},
   "source": [
    "<h2 style=\"color:#98D7C2\">Correction negative values</h2>"
   ]
  },
  {
   "cell_type": "code",
   "execution_count": null,
   "id": "8d3f97a4-538b-489e-9b80-9cd071bf0f09",
   "metadata": {},
   "outputs": [],
   "source": [
    "products.describe()"
   ]
  },
  {
   "cell_type": "code",
   "execution_count": null,
   "id": "80254ed7-c95c-4934-b0f7-5b763cacebed",
   "metadata": {},
   "outputs": [],
   "source": [
    "products['price'].min()"
   ]
  },
  {
   "cell_type": "code",
   "execution_count": null,
   "id": "58b4b964-76f4-4df8-b33c-9a90a1b54424",
   "metadata": {},
   "outputs": [],
   "source": [
    "products = products[products['price']>=0]"
   ]
  },
  {
   "cell_type": "markdown",
   "id": "99c4cd52-bf04-4ce4-b4bc-0f186d49ac84",
   "metadata": {},
   "source": [
    "<h2 style=\"color:#98D7C2\">Display monthly revenue trend</h2>"
   ]
  },
  {
   "cell_type": "code",
   "execution_count": null,
   "id": "4c3433a2-d555-448c-9848-0ba3b115f4ca",
   "metadata": {},
   "outputs": [],
   "source": [
    "merged = pd.merge(transactions, products[['price', 'id_prod']], on='id_prod')\n",
    "merged['month'] = merged['date'].dt.to_period('M')\n",
    "ca_mois = merged.groupby('month')['price'].sum().reset_index()\n",
    "ca_mois"
   ]
  },
  {
   "cell_type": "markdown",
   "id": "5ac6e707-746d-4f94-88b1-afb59e860f05",
   "metadata": {},
   "source": [
    "<i style=\"color:#90ADC6\"> -> Ici, je choisis de faire une jointure interne car je souhaite uniquement conserver les transactions pour lesquelles le produit existe dans la table des produits. </i>"
   ]
  },
  {
   "cell_type": "code",
   "execution_count": null,
   "id": "0a6efc41-5dd6-40d2-8d1a-6b32641bb0ad",
   "metadata": {},
   "outputs": [],
   "source": [
    "plt.figure(figsize=(10, 5))\n",
    "plt.plot(ca_mois['month'].astype(str), ca_mois['price'], marker='x', linestyle='-')\n",
    "plt.title(\"Chiffre d'affaires par mois\")\n",
    "plt.xlabel(\"Mois\")\n",
    "plt.ylabel(\"Chiffre d'affaires (€)\")\n",
    "plt.xticks(rotation=45)\n",
    "plt.grid(True)\n",
    "plt.tight_layout()\n",
    "plt.show()"
   ]
  },
  {
   "cell_type": "markdown",
   "id": "a1baa8a7-e342-4deb-8514-bd8e764fa62c",
   "metadata": {},
   "source": [
    "<h2 style=\"color:#98D7C2\">Calculates the number of transactions per customer</h2>"
   ]
  },
  {
   "cell_type": "code",
   "execution_count": null,
   "id": "3d4e21d8-2371-4423-b7b6-8f85e406cff2",
   "metadata": {},
   "outputs": [],
   "source": [
    "transactions_client = transactions.groupby('client_id')['id_prod'].count().reset_index(name='nmb_of_transactions')\n",
    "transactions_client"
   ]
  },
  {
   "cell_type": "code",
   "execution_count": null,
   "id": "b86480e7-cc1e-42ca-9b7e-4ad8e3ec8c51",
   "metadata": {},
   "outputs": [],
   "source": [
    "transactions_client['client_id'].isnull().sum()"
   ]
  },
  {
   "cell_type": "code",
   "execution_count": null,
   "id": "ad886fc1-c638-4908-88ee-85d26d8b0be2",
   "metadata": {},
   "outputs": [],
   "source": [
    "transactions_client[transactions_client['nmb_of_transactions'] == 0]"
   ]
  },
  {
   "cell_type": "code",
   "execution_count": 90,
   "id": "a84d7412-b5f1-47c7-b388-0b41991a7b64",
   "metadata": {},
   "outputs": [
    {
     "data": {
      "text/plain": [
       "0"
      ]
     },
     "execution_count": 90,
     "metadata": {},
     "output_type": "execute_result"
    }
   ],
   "source": [
    "transactions_client.duplicated().sum()"
   ]
  },
  {
   "cell_type": "code",
   "execution_count": 91,
   "id": "de84b2d7-c003-46e8-8438-44bf8499600f",
   "metadata": {},
   "outputs": [
    {
     "data": {
      "text/plain": [
       "count     8600.000000\n",
       "mean        39.164651\n",
       "std        156.448296\n",
       "min          1.000000\n",
       "25%         14.000000\n",
       "50%         25.000000\n",
       "75%         47.000000\n",
       "max      12855.000000\n",
       "Name: nmb_of_transactions, dtype: float64"
      ]
     },
     "execution_count": 91,
     "metadata": {},
     "output_type": "execute_result"
    }
   ],
   "source": [
    "transactions_client['nmb_of_transactions'].describe()"
   ]
  },
  {
   "cell_type": "code",
   "execution_count": 97,
   "id": "2115b68f-87b2-4b21-a12c-0fbb8deb2c9c",
   "metadata": {},
   "outputs": [
    {
     "data": {
      "text/html": [
       "<div>\n",
       "<style scoped>\n",
       "    .dataframe tbody tr th:only-of-type {\n",
       "        vertical-align: middle;\n",
       "    }\n",
       "\n",
       "    .dataframe tbody tr th {\n",
       "        vertical-align: top;\n",
       "    }\n",
       "\n",
       "    .dataframe thead th {\n",
       "        text-align: right;\n",
       "    }\n",
       "</style>\n",
       "<table border=\"1\" class=\"dataframe\">\n",
       "  <thead>\n",
       "    <tr style=\"text-align: right;\">\n",
       "      <th></th>\n",
       "      <th>client_id</th>\n",
       "      <th>nmb_of_transactions</th>\n",
       "    </tr>\n",
       "  </thead>\n",
       "  <tbody>\n",
       "    <tr>\n",
       "      <th>677</th>\n",
       "      <td>c_1609</td>\n",
       "      <td>12855</td>\n",
       "    </tr>\n",
       "    <tr>\n",
       "      <th>2724</th>\n",
       "      <td>c_3454</td>\n",
       "      <td>3275</td>\n",
       "    </tr>\n",
       "    <tr>\n",
       "      <th>4388</th>\n",
       "      <td>c_4958</td>\n",
       "      <td>2562</td>\n",
       "    </tr>\n",
       "    <tr>\n",
       "      <th>6337</th>\n",
       "      <td>c_6714</td>\n",
       "      <td>4473</td>\n",
       "    </tr>\n",
       "  </tbody>\n",
       "</table>\n",
       "</div>"
      ],
      "text/plain": [
       "     client_id  nmb_of_transactions\n",
       "677     c_1609                12855\n",
       "2724    c_3454                 3275\n",
       "4388    c_4958                 2562\n",
       "6337    c_6714                 4473"
      ]
     },
     "execution_count": 97,
     "metadata": {},
     "output_type": "execute_result"
    }
   ],
   "source": [
    "transactions_client[transactions_client['nmb_of_transactions'] > 1000]"
   ]
  },
  {
   "cell_type": "code",
   "execution_count": 108,
   "id": "2b08b18d-6cbc-496e-8afe-6407875ec60b",
   "metadata": {},
   "outputs": [
    {
     "data": {
      "text/html": [
       "<div>\n",
       "<style scoped>\n",
       "    .dataframe tbody tr th:only-of-type {\n",
       "        vertical-align: middle;\n",
       "    }\n",
       "\n",
       "    .dataframe tbody tr th {\n",
       "        vertical-align: top;\n",
       "    }\n",
       "\n",
       "    .dataframe thead th {\n",
       "        text-align: right;\n",
       "    }\n",
       "</style>\n",
       "<table border=\"1\" class=\"dataframe\">\n",
       "  <thead>\n",
       "    <tr style=\"text-align: right;\">\n",
       "      <th></th>\n",
       "      <th>client_id</th>\n",
       "      <th>sex</th>\n",
       "      <th>birth</th>\n",
       "    </tr>\n",
       "  </thead>\n",
       "  <tbody>\n",
       "    <tr>\n",
       "      <th>1378</th>\n",
       "      <td>c_4958</td>\n",
       "      <td>m</td>\n",
       "      <td>1999</td>\n",
       "    </tr>\n",
       "    <tr>\n",
       "      <th>1911</th>\n",
       "      <td>c_6714</td>\n",
       "      <td>f</td>\n",
       "      <td>1968</td>\n",
       "    </tr>\n",
       "    <tr>\n",
       "      <th>3642</th>\n",
       "      <td>c_1609</td>\n",
       "      <td>m</td>\n",
       "      <td>1980</td>\n",
       "    </tr>\n",
       "    <tr>\n",
       "      <th>8088</th>\n",
       "      <td>c_3454</td>\n",
       "      <td>m</td>\n",
       "      <td>1969</td>\n",
       "    </tr>\n",
       "  </tbody>\n",
       "</table>\n",
       "</div>"
      ],
      "text/plain": [
       "     client_id sex  birth\n",
       "1378    c_4958   m   1999\n",
       "1911    c_6714   f   1968\n",
       "3642    c_1609   m   1980\n",
       "8088    c_3454   m   1969"
      ]
     },
     "execution_count": 108,
     "metadata": {},
     "output_type": "execute_result"
    }
   ],
   "source": [
    "# Vérifier l'existence dans customers\n",
    "clients_suspects = transactions_client[transactions_client['nmb_of_transactions'] > 1000]['client_id']\n",
    "customers[customers['client_id'].isin(clients_suspects)]"
   ]
  },
  {
   "cell_type": "code",
   "execution_count": null,
   "id": "dd7f4788-1c38-4899-b260-9ac5e941091a",
   "metadata": {},
   "outputs": [],
   "source": []
  }
 ],
 "metadata": {
  "kernelspec": {
   "display_name": "Python [conda env:base] *",
   "language": "python",
   "name": "conda-base-py"
  },
  "language_info": {
   "codemirror_mode": {
    "name": "ipython",
    "version": 3
   },
   "file_extension": ".py",
   "mimetype": "text/x-python",
   "name": "python",
   "nbconvert_exporter": "python",
   "pygments_lexer": "ipython3",
   "version": "3.12.7"
  }
 },
 "nbformat": 4,
 "nbformat_minor": 5
}
